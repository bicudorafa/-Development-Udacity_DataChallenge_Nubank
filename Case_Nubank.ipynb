{
 "cells": [
  {
   "cell_type": "markdown",
   "metadata": {},
   "source": [
    "Anotações para mentoria:\n",
    "- Há forma mais eficiente de fazer plot sucessivos entre 2 features?\n",
    "- Quando fazer função de features com baixa representatividade?"
   ]
  },
  {
   "cell_type": "markdown",
   "metadata": {},
   "source": [
    "# Abertura dos arquivos"
   ]
  },
  {
   "cell_type": "markdown",
   "metadata": {},
   "source": [
    "Configurações iniciais para iniciar exploração"
   ]
  },
  {
   "cell_type": "code",
   "execution_count": 2,
   "metadata": {},
   "outputs": [],
   "source": [
    "import pandas as pd\n",
    "import numpy as np\n",
    "import seaborn as sns\n",
    "import missingno as msno\n",
    "import gc\n",
    "import matplotlib.pyplot as plt\n",
    "%matplotlib inline\n",
    "import warnings\n",
    "warnings.filterwarnings('ignore')"
   ]
  },
  {
   "cell_type": "code",
   "execution_count": 3,
   "metadata": {},
   "outputs": [],
   "source": [
    "# ajuda a otimizar o uso da memória (mais info: https://www.geeksforgeeks.org/garbage-collection-python/)\n",
    "gc.enable()"
   ]
  },
  {
   "cell_type": "markdown",
   "metadata": {},
   "source": [
    "Função para colher 1as impressões do df:"
   ]
  },
  {
   "cell_type": "code",
   "execution_count": 4,
   "metadata": {},
   "outputs": [],
   "source": [
    "def summary_info_df (df):\n",
    "    print (\"Rows     : \" ,df.shape[0])\n",
    "    print (\"Columns  : \" ,df.shape[1])\n",
    "    print (\"\\nFeatures : \\n\" ,df.columns.tolist())\n",
    "    print (\"\\nMissing values :  \", df.isnull().sum().values.sum())\n",
    "    print (\"\\nUnique values :  \\n\",df.nunique())\n",
    "    print (\"\\nData Types :  \\n\",df.dtypes)"
   ]
  },
  {
   "cell_type": "markdown",
   "metadata": {},
   "source": [
    "Leitura preliminar dos arquivos"
   ]
  },
  {
   "cell_type": "code",
   "execution_count": 5,
   "metadata": {
    "scrolled": true
   },
   "outputs": [
    {
     "data": {
      "text/html": [
       "<div>\n",
       "<style scoped>\n",
       "    .dataframe tbody tr th:only-of-type {\n",
       "        vertical-align: middle;\n",
       "    }\n",
       "\n",
       "    .dataframe tbody tr th {\n",
       "        vertical-align: top;\n",
       "    }\n",
       "\n",
       "    .dataframe thead th {\n",
       "        text-align: right;\n",
       "    }\n",
       "</style>\n",
       "<table border=\"1\" class=\"dataframe\">\n",
       "  <thead>\n",
       "    <tr style=\"text-align: right;\">\n",
       "      <th></th>\n",
       "      <th>ids</th>\n",
       "      <th>target_default</th>\n",
       "      <th>score_1</th>\n",
       "      <th>score_2</th>\n",
       "      <th>score_3</th>\n",
       "      <th>score_4</th>\n",
       "      <th>score_5</th>\n",
       "      <th>score_6</th>\n",
       "      <th>risk_rate</th>\n",
       "      <th>last_amount_borrowed</th>\n",
       "      <th>...</th>\n",
       "      <th>external_data_provider_fraud_score</th>\n",
       "      <th>lat_lon</th>\n",
       "      <th>marketing_channel</th>\n",
       "      <th>profile_phone_number</th>\n",
       "      <th>reported_income</th>\n",
       "      <th>shipping_state</th>\n",
       "      <th>shipping_zip_code</th>\n",
       "      <th>profile_tags</th>\n",
       "      <th>user_agent</th>\n",
       "      <th>target_fraud</th>\n",
       "    </tr>\n",
       "  </thead>\n",
       "  <tbody>\n",
       "    <tr>\n",
       "      <th>0</th>\n",
       "      <td>343b7e7b-2cf8-e508-b8fd-0a0285af30aa</td>\n",
       "      <td>False</td>\n",
       "      <td>1Rk8w4Ucd5yR3KcqZzLdow==</td>\n",
       "      <td>IOVu8au3ISbo6+zmfnYwMg==</td>\n",
       "      <td>350.0</td>\n",
       "      <td>101.800832</td>\n",
       "      <td>0.259555</td>\n",
       "      <td>108.427273</td>\n",
       "      <td>0.40</td>\n",
       "      <td>25033.92</td>\n",
       "      <td>...</td>\n",
       "      <td>645</td>\n",
       "      <td>(-29.151545708122246, -51.1386461804385)</td>\n",
       "      <td>Invite-email</td>\n",
       "      <td>514-9840782</td>\n",
       "      <td>57849.0</td>\n",
       "      <td>BR-MT</td>\n",
       "      <td>17528</td>\n",
       "      <td>{'tags': ['n19', 'n8']}</td>\n",
       "      <td>Mozilla/5.0 (Linux; Android 6.0.1; SGP771 Buil...</td>\n",
       "      <td>NaN</td>\n",
       "    </tr>\n",
       "    <tr>\n",
       "      <th>1</th>\n",
       "      <td>bc2c7502-bbad-0f8c-39c3-94e881967124</td>\n",
       "      <td>False</td>\n",
       "      <td>DGCQep2AE5QRkNCshIAlFQ==</td>\n",
       "      <td>SaamrHMo23l/3TwXOWgVzw==</td>\n",
       "      <td>370.0</td>\n",
       "      <td>97.062615</td>\n",
       "      <td>0.942655</td>\n",
       "      <td>92.002546</td>\n",
       "      <td>0.24</td>\n",
       "      <td>NaN</td>\n",
       "      <td>...</td>\n",
       "      <td>243</td>\n",
       "      <td>(-19.687710705798963, -47.94151536525154)</td>\n",
       "      <td>Radio-commercial</td>\n",
       "      <td>251-3659293</td>\n",
       "      <td>4902.0</td>\n",
       "      <td>BR-RS</td>\n",
       "      <td>40933</td>\n",
       "      <td>{'tags': ['n6', 'n7', 'nim']}</td>\n",
       "      <td>Mozilla/5.0 (Linux; Android 5.0.2; SAMSUNG SM-...</td>\n",
       "      <td>NaN</td>\n",
       "    </tr>\n",
       "    <tr>\n",
       "      <th>2</th>\n",
       "      <td>669630dd-2e6a-0396-84bf-455e5009c922</td>\n",
       "      <td>True</td>\n",
       "      <td>DGCQep2AE5QRkNCshIAlFQ==</td>\n",
       "      <td>Fv28Bz0YRTVAT5kl1bAV6g==</td>\n",
       "      <td>360.0</td>\n",
       "      <td>100.027073</td>\n",
       "      <td>0.351918</td>\n",
       "      <td>112.892453</td>\n",
       "      <td>0.29</td>\n",
       "      <td>7207.92</td>\n",
       "      <td>...</td>\n",
       "      <td>65</td>\n",
       "      <td>(-28.748023890412284, -51.867279334353995)</td>\n",
       "      <td>Waiting-list</td>\n",
       "      <td>230-6097993</td>\n",
       "      <td>163679.0</td>\n",
       "      <td>BR-RR</td>\n",
       "      <td>50985</td>\n",
       "      <td>{'tags': ['n0', 'n17', 'nim', 'da']}</td>\n",
       "      <td>Mozilla/5.0 (Linux; Android 6.0.1; SGP771 Buil...</td>\n",
       "      <td>NaN</td>\n",
       "    </tr>\n",
       "    <tr>\n",
       "      <th>3</th>\n",
       "      <td>d235609e-b6cb-0ccc-a329-d4f12e7ebdc1</td>\n",
       "      <td>False</td>\n",
       "      <td>1Rk8w4Ucd5yR3KcqZzLdow==</td>\n",
       "      <td>dCm9hFKfdRm7ej3jW+gyxw==</td>\n",
       "      <td>510.0</td>\n",
       "      <td>101.599485</td>\n",
       "      <td>0.987673</td>\n",
       "      <td>94.902491</td>\n",
       "      <td>0.32</td>\n",
       "      <td>NaN</td>\n",
       "      <td>...</td>\n",
       "      <td>815</td>\n",
       "      <td>(-17.520650158450454, -39.75801139933186)</td>\n",
       "      <td>Waiting-list</td>\n",
       "      <td>261-3543751</td>\n",
       "      <td>1086.0</td>\n",
       "      <td>BR-RN</td>\n",
       "      <td>37825</td>\n",
       "      <td>{'tags': ['n4']}</td>\n",
       "      <td>Mozilla/5.0 (Linux; Android 6.0; HTC One X10 B...</td>\n",
       "      <td>NaN</td>\n",
       "    </tr>\n",
       "    <tr>\n",
       "      <th>4</th>\n",
       "      <td>9e0eb880-e8f4-3faa-67d8-f5cdd2b3932b</td>\n",
       "      <td>False</td>\n",
       "      <td>8k8UDR4Yx0qasAjkGrUZLw==</td>\n",
       "      <td>+CxEO4w7jv3QPI/BQbyqAA==</td>\n",
       "      <td>500.0</td>\n",
       "      <td>98.474289</td>\n",
       "      <td>0.532539</td>\n",
       "      <td>118.126207</td>\n",
       "      <td>0.18</td>\n",
       "      <td>NaN</td>\n",
       "      <td>...</td>\n",
       "      <td>320</td>\n",
       "      <td>(-16.574259446978008, -39.90990074785962)</td>\n",
       "      <td>Invite-email</td>\n",
       "      <td>102-3660162</td>\n",
       "      <td>198618.0</td>\n",
       "      <td>BR-MT</td>\n",
       "      <td>52827</td>\n",
       "      <td>{'tags': ['pro+aty', 'n19', 'da', 'b19']}</td>\n",
       "      <td>Mozilla/5.0 (Linux; Android 7.0; Pixel C Build...</td>\n",
       "      <td>NaN</td>\n",
       "    </tr>\n",
       "  </tbody>\n",
       "</table>\n",
       "<p>5 rows × 43 columns</p>\n",
       "</div>"
      ],
      "text/plain": [
       "                                    ids target_default  \\\n",
       "0  343b7e7b-2cf8-e508-b8fd-0a0285af30aa          False   \n",
       "1  bc2c7502-bbad-0f8c-39c3-94e881967124          False   \n",
       "2  669630dd-2e6a-0396-84bf-455e5009c922           True   \n",
       "3  d235609e-b6cb-0ccc-a329-d4f12e7ebdc1          False   \n",
       "4  9e0eb880-e8f4-3faa-67d8-f5cdd2b3932b          False   \n",
       "\n",
       "                    score_1                   score_2  score_3     score_4  \\\n",
       "0  1Rk8w4Ucd5yR3KcqZzLdow==  IOVu8au3ISbo6+zmfnYwMg==    350.0  101.800832   \n",
       "1  DGCQep2AE5QRkNCshIAlFQ==  SaamrHMo23l/3TwXOWgVzw==    370.0   97.062615   \n",
       "2  DGCQep2AE5QRkNCshIAlFQ==  Fv28Bz0YRTVAT5kl1bAV6g==    360.0  100.027073   \n",
       "3  1Rk8w4Ucd5yR3KcqZzLdow==  dCm9hFKfdRm7ej3jW+gyxw==    510.0  101.599485   \n",
       "4  8k8UDR4Yx0qasAjkGrUZLw==  +CxEO4w7jv3QPI/BQbyqAA==    500.0   98.474289   \n",
       "\n",
       "    score_5     score_6  risk_rate  last_amount_borrowed     ...       \\\n",
       "0  0.259555  108.427273       0.40              25033.92     ...        \n",
       "1  0.942655   92.002546       0.24                   NaN     ...        \n",
       "2  0.351918  112.892453       0.29               7207.92     ...        \n",
       "3  0.987673   94.902491       0.32                   NaN     ...        \n",
       "4  0.532539  118.126207       0.18                   NaN     ...        \n",
       "\n",
       "   external_data_provider_fraud_score  \\\n",
       "0                                 645   \n",
       "1                                 243   \n",
       "2                                  65   \n",
       "3                                 815   \n",
       "4                                 320   \n",
       "\n",
       "                                      lat_lon marketing_channel  \\\n",
       "0    (-29.151545708122246, -51.1386461804385)      Invite-email   \n",
       "1   (-19.687710705798963, -47.94151536525154)  Radio-commercial   \n",
       "2  (-28.748023890412284, -51.867279334353995)      Waiting-list   \n",
       "3   (-17.520650158450454, -39.75801139933186)      Waiting-list   \n",
       "4   (-16.574259446978008, -39.90990074785962)      Invite-email   \n",
       "\n",
       "   profile_phone_number reported_income shipping_state shipping_zip_code  \\\n",
       "0           514-9840782         57849.0          BR-MT             17528   \n",
       "1           251-3659293          4902.0          BR-RS             40933   \n",
       "2           230-6097993        163679.0          BR-RR             50985   \n",
       "3           261-3543751          1086.0          BR-RN             37825   \n",
       "4           102-3660162        198618.0          BR-MT             52827   \n",
       "\n",
       "                                profile_tags  \\\n",
       "0                    {'tags': ['n19', 'n8']}   \n",
       "1              {'tags': ['n6', 'n7', 'nim']}   \n",
       "2       {'tags': ['n0', 'n17', 'nim', 'da']}   \n",
       "3                           {'tags': ['n4']}   \n",
       "4  {'tags': ['pro+aty', 'n19', 'da', 'b19']}   \n",
       "\n",
       "                                          user_agent target_fraud  \n",
       "0  Mozilla/5.0 (Linux; Android 6.0.1; SGP771 Buil...          NaN  \n",
       "1  Mozilla/5.0 (Linux; Android 5.0.2; SAMSUNG SM-...          NaN  \n",
       "2  Mozilla/5.0 (Linux; Android 6.0.1; SGP771 Buil...          NaN  \n",
       "3  Mozilla/5.0 (Linux; Android 6.0; HTC One X10 B...          NaN  \n",
       "4  Mozilla/5.0 (Linux; Android 7.0; Pixel C Build...          NaN  \n",
       "\n",
       "[5 rows x 43 columns]"
      ]
     },
     "execution_count": 5,
     "metadata": {},
     "output_type": "execute_result"
    }
   ],
   "source": [
    "acquisition = pd.read_csv('data/acquisition_train.csv')\n",
    "acquisition.head()"
   ]
  },
  {
   "cell_type": "code",
   "execution_count": 8,
   "metadata": {
    "scrolled": true
   },
   "outputs": [
    {
     "name": "stdout",
     "output_type": "stream",
     "text": [
      "Rows     :  45000\n",
      "Columns  :  43\n",
      "\n",
      "Features : \n",
      " ['ids', 'target_default', 'score_1', 'score_2', 'score_3', 'score_4', 'score_5', 'score_6', 'risk_rate', 'last_amount_borrowed', 'last_borrowed_in_months', 'credit_limit', 'reason', 'income', 'facebook_profile', 'state', 'zip', 'channel', 'job_name', 'real_state', 'ok_since', 'n_bankruptcies', 'n_defaulted_loans', 'n_accounts', 'n_issues', 'application_time_applied', 'application_time_in_funnel', 'email', 'external_data_provider_credit_checks_last_2_year', 'external_data_provider_credit_checks_last_month', 'external_data_provider_credit_checks_last_year', 'external_data_provider_email_seen_before', 'external_data_provider_first_name', 'external_data_provider_fraud_score', 'lat_lon', 'marketing_channel', 'profile_phone_number', 'reported_income', 'shipping_state', 'shipping_zip_code', 'profile_tags', 'user_agent', 'target_fraud']\n",
      "\n",
      "Missing values :   219437\n",
      "\n",
      "Unique values :  \n",
      " ids                                                 45000\n",
      "target_default                                          2\n",
      "score_1                                                 7\n",
      "score_2                                                35\n",
      "score_3                                                88\n",
      "score_4                                             45000\n",
      "score_5                                             45000\n",
      "score_6                                             45000\n",
      "risk_rate                                              82\n",
      "last_amount_borrowed                                14325\n",
      "last_borrowed_in_months                                 2\n",
      "credit_limit                                        20928\n",
      "reason                                              14874\n",
      "income                                              41211\n",
      "facebook_profile                                        2\n",
      "state                                                  50\n",
      "zip                                                   823\n",
      "channel                                                 1\n",
      "job_name                                            32265\n",
      "real_state                                              5\n",
      "ok_since                                              100\n",
      "n_bankruptcies                                          6\n",
      "n_defaulted_loans                                       5\n",
      "n_accounts                                             44\n",
      "n_issues                                               44\n",
      "application_time_applied                            35543\n",
      "application_time_in_funnel                            501\n",
      "email                                                   6\n",
      "external_data_provider_credit_checks_last_2_year        1\n",
      "external_data_provider_credit_checks_last_month         4\n",
      "external_data_provider_credit_checks_last_year          2\n",
      "external_data_provider_email_seen_before               62\n",
      "external_data_provider_first_name                   32886\n",
      "external_data_provider_fraud_score                   1001\n",
      "lat_lon                                             22412\n",
      "marketing_channel                                       9\n",
      "profile_phone_number                                45000\n",
      "reported_income                                     40025\n",
      "shipping_state                                         25\n",
      "shipping_zip_code                                   28263\n",
      "profile_tags                                        26131\n",
      "user_agent                                            297\n",
      "target_fraud                                            2\n",
      "dtype: int64\n",
      "\n",
      "Data Types :  \n",
      " ids                                                  object\n",
      "target_default                                       object\n",
      "score_1                                              object\n",
      "score_2                                              object\n",
      "score_3                                             float64\n",
      "score_4                                             float64\n",
      "score_5                                             float64\n",
      "score_6                                             float64\n",
      "risk_rate                                           float64\n",
      "last_amount_borrowed                                float64\n",
      "last_borrowed_in_months                             float64\n",
      "credit_limit                                        float64\n",
      "reason                                               object\n",
      "income                                              float64\n",
      "facebook_profile                                     object\n",
      "state                                                object\n",
      "zip                                                  object\n",
      "channel                                              object\n",
      "job_name                                             object\n",
      "real_state                                           object\n",
      "ok_since                                            float64\n",
      "n_bankruptcies                                      float64\n",
      "n_defaulted_loans                                   float64\n",
      "n_accounts                                          float64\n",
      "n_issues                                            float64\n",
      "application_time_applied                             object\n",
      "application_time_in_funnel                            int64\n",
      "email                                                object\n",
      "external_data_provider_credit_checks_last_2_year    float64\n",
      "external_data_provider_credit_checks_last_month       int64\n",
      "external_data_provider_credit_checks_last_year      float64\n",
      "external_data_provider_email_seen_before            float64\n",
      "external_data_provider_first_name                    object\n",
      "external_data_provider_fraud_score                    int64\n",
      "lat_lon                                              object\n",
      "marketing_channel                                    object\n",
      "profile_phone_number                                 object\n",
      "reported_income                                     float64\n",
      "shipping_state                                       object\n",
      "shipping_zip_code                                     int64\n",
      "profile_tags                                         object\n",
      "user_agent                                           object\n",
      "target_fraud                                         object\n",
      "dtype: object\n"
     ]
    }
   ],
   "source": [
    "summary_info_df(acquisition)"
   ]
  },
  {
   "cell_type": "code",
   "execution_count": 6,
   "metadata": {
    "scrolled": true
   },
   "outputs": [
    {
     "data": {
      "text/html": [
       "<div>\n",
       "<style scoped>\n",
       "    .dataframe tbody tr th:only-of-type {\n",
       "        vertical-align: middle;\n",
       "    }\n",
       "\n",
       "    .dataframe tbody tr th {\n",
       "        vertical-align: top;\n",
       "    }\n",
       "\n",
       "    .dataframe thead th {\n",
       "        text-align: right;\n",
       "    }\n",
       "</style>\n",
       "<table border=\"1\" class=\"dataframe\">\n",
       "  <thead>\n",
       "    <tr style=\"text-align: right;\">\n",
       "      <th></th>\n",
       "      <th>ids</th>\n",
       "      <th>credit_line</th>\n",
       "      <th>month</th>\n",
       "      <th>spends</th>\n",
       "      <th>revolving_balance</th>\n",
       "      <th>card_request</th>\n",
       "      <th>minutes_cs</th>\n",
       "    </tr>\n",
       "  </thead>\n",
       "  <tbody>\n",
       "    <tr>\n",
       "      <th>0</th>\n",
       "      <td>b4118fd5-77d5-4d80-3617-bacd7aaf1a88</td>\n",
       "      <td>17941</td>\n",
       "      <td>0</td>\n",
       "      <td>6305.06</td>\n",
       "      <td>35.56</td>\n",
       "      <td>1</td>\n",
       "      <td>0.00</td>\n",
       "    </tr>\n",
       "    <tr>\n",
       "      <th>1</th>\n",
       "      <td>b4118fd5-77d5-4d80-3617-bacd7aaf1a88</td>\n",
       "      <td>17941</td>\n",
       "      <td>1</td>\n",
       "      <td>4199.99</td>\n",
       "      <td>3406.59</td>\n",
       "      <td>0</td>\n",
       "      <td>0.00</td>\n",
       "    </tr>\n",
       "    <tr>\n",
       "      <th>2</th>\n",
       "      <td>b4118fd5-77d5-4d80-3617-bacd7aaf1a88</td>\n",
       "      <td>17941</td>\n",
       "      <td>2</td>\n",
       "      <td>7167.94</td>\n",
       "      <td>0.00</td>\n",
       "      <td>0</td>\n",
       "      <td>0.00</td>\n",
       "    </tr>\n",
       "    <tr>\n",
       "      <th>3</th>\n",
       "      <td>b4118fd5-77d5-4d80-3617-bacd7aaf1a88</td>\n",
       "      <td>17941</td>\n",
       "      <td>3</td>\n",
       "      <td>16631.05</td>\n",
       "      <td>0.00</td>\n",
       "      <td>1</td>\n",
       "      <td>5.55</td>\n",
       "    </tr>\n",
       "    <tr>\n",
       "      <th>4</th>\n",
       "      <td>b4118fd5-77d5-4d80-3617-bacd7aaf1a88</td>\n",
       "      <td>17941</td>\n",
       "      <td>4</td>\n",
       "      <td>115.29</td>\n",
       "      <td>0.00</td>\n",
       "      <td>0</td>\n",
       "      <td>6.89</td>\n",
       "    </tr>\n",
       "  </tbody>\n",
       "</table>\n",
       "</div>"
      ],
      "text/plain": [
       "                                    ids  credit_line  month    spends  \\\n",
       "0  b4118fd5-77d5-4d80-3617-bacd7aaf1a88        17941      0   6305.06   \n",
       "1  b4118fd5-77d5-4d80-3617-bacd7aaf1a88        17941      1   4199.99   \n",
       "2  b4118fd5-77d5-4d80-3617-bacd7aaf1a88        17941      2   7167.94   \n",
       "3  b4118fd5-77d5-4d80-3617-bacd7aaf1a88        17941      3  16631.05   \n",
       "4  b4118fd5-77d5-4d80-3617-bacd7aaf1a88        17941      4    115.29   \n",
       "\n",
       "   revolving_balance  card_request  minutes_cs  \n",
       "0              35.56             1        0.00  \n",
       "1            3406.59             0        0.00  \n",
       "2               0.00             0        0.00  \n",
       "3               0.00             1        5.55  \n",
       "4               0.00             0        6.89  "
      ]
     },
     "execution_count": 6,
     "metadata": {},
     "output_type": "execute_result"
    }
   ],
   "source": [
    "spend = pd.read_csv('data/spend_train.csv')\n",
    "spend.head()"
   ]
  },
  {
   "cell_type": "code",
   "execution_count": 10,
   "metadata": {
    "scrolled": true
   },
   "outputs": [
    {
     "name": "stdout",
     "output_type": "stream",
     "text": [
      "Rows     :  980818\n",
      "Columns  :  7\n",
      "\n",
      "Features : \n",
      " ['ids', 'credit_line', 'month', 'spends', 'revolving_balance', 'card_request', 'minutes_cs']\n",
      "\n",
      "Missing values :   0\n",
      "\n",
      "Unique values :  \n",
      " ids                   45000\n",
      "credit_line           14079\n",
      "month                    36\n",
      "spends               277283\n",
      "revolving_balance     70195\n",
      "card_request              2\n",
      "minutes_cs             2130\n",
      "dtype: int64\n",
      "\n",
      "Data Types :  \n",
      " ids                   object\n",
      "credit_line            int64\n",
      "month                  int64\n",
      "spends               float64\n",
      "revolving_balance    float64\n",
      "card_request           int64\n",
      "minutes_cs           float64\n",
      "dtype: object\n"
     ]
    }
   ],
   "source": [
    "summary_info_df(spend)"
   ]
  },
  {
   "cell_type": "markdown",
   "metadata": {},
   "source": [
    "# EDA "
   ]
  },
  {
   "cell_type": "markdown",
   "metadata": {},
   "source": [
    "Categóricas:\n",
    "\n",
    "- real_state, n_bankruptcies possui 2 categorias praticamente inexistentes\n",
    "- channel, n_defaulted_loans só possui 1 classe realmente relevante (1)\n",
    "- external_data_provider_credit_checks_last_month, external_data_provider_credit_checks_last_year, ok_since revela nada\n",
    "- vale uma binzarização maior na score_3"
   ]
  },
  {
   "cell_type": "code",
   "execution_count": 39,
   "metadata": {},
   "outputs": [
    {
     "data": {
      "image/png": "[encoded data removed]",
      "text/plain": [
       "<Figure size 432x288 with 1 Axes>"
      ]
     },
     "metadata": {},
     "output_type": "display_data"
    }
   ],
   "source": [
    "def catTargetPlot (cat):\n",
    "    sns.countplot(y = cat, hue = 'target_default', data = acquisition)\n",
    "catTargetPlot ('score_1')"
   ]
  },
  {
   "cell_type": "code",
   "execution_count": 42,
   "metadata": {},
   "outputs": [
    {
     "data": {
      "image/png": "[encoded data removed]",
      "text/plain": [
       "<Figure size 432x288 with 1 Axes>"
      ]
     },
     "metadata": {},
     "output_type": "display_data"
    }
   ],
   "source": [
    "catTargetPlot('real_state')"
   ]
  },
  {
   "cell_type": "markdown",
   "metadata": {},
   "source": [
    "Numéricas:\n",
    "\n",
    "- score_3 é uma numérica já agrupada, mas vale agrupar mais - talvez valha tentar em todas com pouca variância na distribuição do target\n",
    "- score_(4,5,6), risk_rate, n_defaulted_loans,credit_limit possuem pouco influência direta na variável\n",
    "- Os scores de credito tem nenhuma tendência linear ou agrupamento em relação ao target\n",
    "- reason, job_name é inusável a princípio"
   ]
  },
  {
   "cell_type": "code",
   "execution_count": 43,
   "metadata": {},
   "outputs": [
    {
     "data": {
      "image/png": "[encoded data removed]",
      "text/plain": [
       "<Figure size 432x288 with 1 Axes>"
      ]
     },
     "metadata": {},
     "output_type": "display_data"
    }
   ],
   "source": [
    "def numTargetPlot (num):\n",
    "    sns.boxplot(y = num, x = 'target_default', data = acquisition)\n",
    "numTargetPlot('ok_since')    "
   ]
  },
  {
   "cell_type": "code",
   "execution_count": 34,
   "metadata": {},
   "outputs": [
    {
     "data": {
      "text/plain": [
       "<matplotlib.axes._subplots.AxesSubplot at 0x1b45452c3c8>"
      ]
     },
     "execution_count": 34,
     "metadata": {},
     "output_type": "execute_result"
    },
    {
     "data": {
      "image/png": "[encoded data removed]",
      "text/plain": [
       "<Figure size 432x288 with 1 Axes>"
      ]
     },
     "metadata": {},
     "output_type": "display_data"
    }
   ],
   "source": [
    "sns.boxplot(y = np.log(acquisition.reported_income), x = acquisition.target_default)\n",
    "#acquisition.reported_income.replace([np.inf, -np.inf], np.nan)\n",
    "#acquisition.reported_income.replace([np.inf, -np.inf], np.nan).describe()"
   ]
  },
  {
   "cell_type": "code",
   "execution_count": 32,
   "metadata": {},
   "outputs": [
    {
     "data": {
      "text/plain": [
       "<matplotlib.axes._subplots.AxesSubplot at 0x1b45444b5f8>"
      ]
     },
     "execution_count": 32,
     "metadata": {},
     "output_type": "execute_result"
    },
    {
     "data": {
      "image/png": "[encoded data removed]",
      "text/plain": [
       "<Figure size 432x288 with 1 Axes>"
      ]
     },
     "metadata": {},
     "output_type": "display_data"
    }
   ],
   "source": [
    "np.log(acquisition.reported_income).plot(kind = 'hist')"
   ]
  },
  {
   "cell_type": "markdown",
   "metadata": {},
   "source": [
    "### 1.1"
   ]
  },
  {
   "cell_type": "code",
   "execution_count": 21,
   "metadata": {},
   "outputs": [
    {
     "data": {
      "text/plain": [
       "<matplotlib.axes._subplots.AxesSubplot at 0x18465673cf8>"
      ]
     },
     "execution_count": 21,
     "metadata": {},
     "output_type": "execute_result"
    },
    {
     "data": {
      "image/png": "[encoded data removed]",
      "text/plain": [
       "<Figure size 360x360 with 1 Axes>"
      ]
     },
     "metadata": {},
     "output_type": "display_data"
    }
   ],
   "source": [
    "plt.figure(figsize=(5,5))\n",
    "\n",
    "plt.title('Percentage of Default')\n",
    "acquisition['target_default'].value_counts().plot(kind='pie', table=True, autopct='%1.1f%%',\n",
    "counterclock=False, shadow=True)"
   ]
  },
  {
   "cell_type": "code",
   "execution_count": 28,
   "metadata": {},
   "outputs": [
    {
     "data": {
      "text/plain": [
       "<matplotlib.axes._subplots.AxesSubplot at 0x1b45540d438>"
      ]
     },
     "execution_count": 28,
     "metadata": {},
     "output_type": "execute_result"
    },
    {
     "data": {
      "image/png": "[encoded data removed]",
      "text/plain": [
       "<Figure size 432x288 with 1 Axes>"
      ]
     },
     "metadata": {},
     "output_type": "display_data"
    }
   ],
   "source": [
    "sns.countplot(y = 'score_1', hue = 'target_default', data = acquisition)"
   ]
  },
  {
   "cell_type": "code",
   "execution_count": 37,
   "metadata": {},
   "outputs": [
    {
     "data": {
      "text/plain": [
       "<matplotlib.axes._subplots.AxesSubplot at 0x1b453e76630>"
      ]
     },
     "execution_count": 37,
     "metadata": {},
     "output_type": "execute_result"
    },
    {
     "data": {
      "image/png": "[encoded data removed]",
      "text/plain": [
       "<Figure size 432x288 with 1 Axes>"
      ]
     },
     "metadata": {},
     "output_type": "display_data"
    }
   ],
   "source": [
    "sns.boxplot(y = 'last_amount_borrowed', x = 'target_default', data = acquisition)"
   ]
  },
  {
   "cell_type": "markdown",
   "metadata": {},
   "source": [
    "###  1.2"
   ]
  },
  {
   "cell_type": "code",
   "execution_count": 16,
   "metadata": {},
   "outputs": [
    {
     "data": {
      "image/png": "[encoded data removed]",
      "text/plain": [
       "<Figure size 432x288 with 1 Axes>"
      ]
     },
     "metadata": {},
     "output_type": "display_data"
    }
   ],
   "source": [
    "catTargetPlot ('target_fraud')"
   ]
  },
  {
   "cell_type": "markdown",
   "metadata": {},
   "source": [
    "Boa indicação de que, talvez, não seja a melhor abordagem considerá-los um mesmo tipo apenas de fraude tendo em vista que a incidência de default é muito maior em fraud_friends_family"
   ]
  },
  {
   "cell_type": "markdown",
   "metadata": {},
   "source": [
    "### 1.3"
   ]
  },
  {
   "cell_type": "code",
   "execution_count": 11,
   "metadata": {},
   "outputs": [
    {
     "data": {
      "text/plain": [
       "Text(0.5,1,'pv_3m')"
      ]
     },
     "execution_count": 11,
     "metadata": {},
     "output_type": "execute_result"
    },
    {
     "data": {
      "image/png": "[encoded data removed]",
      "text/plain": [
       "<Figure size 432x288 with 1 Axes>"
      ]
     },
     "metadata": {},
     "output_type": "display_data"
    }
   ],
   "source": [
    "spend.groupby(['ids', 'credit_line']).spends.rolling(3).mean().plot(kind = 'hist')\n",
    "plt.title('pv_3m')"
   ]
  },
  {
   "cell_type": "markdown",
   "metadata": {},
   "source": [
    "Boa indicação de como os gastos, na média, são muito concentrados em alguns valores com uns poucos outliers, assim utilizar uma abordagem que envolva o log dos gastos pode ajudar."
   ]
  },
  {
   "cell_type": "markdown",
   "metadata": {},
   "source": [
    "# Data Cleaning"
   ]
  },
  {
   "cell_type": "markdown",
   "metadata": {},
   "source": [
    "# Baseline Approach"
   ]
  },
  {
   "cell_type": "markdown",
   "metadata": {},
   "source": [
    "### Definição do acquisition_bl"
   ]
  },
  {
   "cell_type": "code",
   "execution_count": 7,
   "metadata": {},
   "outputs": [],
   "source": [
    "#from datetime import datetime\n",
    "#datetime.strptime(acquisition.application_time_applied, '%H:%M:%S')\n",
    "#acquisition.application_time_applied = acquisition.application_time_applied.map(lambda x: datetime.strptime(x, '%H:%M:%S'))\n",
    "# valores como 00:60:02 inviabilizam o rolê"
   ]
  },
  {
   "cell_type": "code",
   "execution_count": 8,
   "metadata": {},
   "outputs": [],
   "source": [
    "acquisition.reported_income.replace([np.inf, -np.inf], np.nan, inplace = True)"
   ]
  },
  {
   "cell_type": "code",
   "execution_count": 94,
   "metadata": {},
   "outputs": [],
   "source": [
    "acquisition_bl = acquisition.copy()"
   ]
  },
  {
   "cell_type": "code",
   "execution_count": 95,
   "metadata": {
    "scrolled": true
   },
   "outputs": [],
   "source": [
    "acquisition_bl.dropna(subset = ['target_default'], inplace = True)\n",
    "acquisition_bl.drop(['zip', 'job_name', 'lat_lon', 'profile_phone_number', 'application_time_applied',\n",
    "                     'shipping_zip_code', 'profile_tags', 'user_agent', 'reason', 'channel', \n",
    "                     'external_data_provider_first_name', 'target_fraud'], axis = 1, inplace = True)\n",
    "acquisition_bl.reset_index(drop=True, inplace = True)"
   ]
  },
  {
   "cell_type": "code",
   "execution_count": 33,
   "metadata": {
    "scrolled": true
   },
   "outputs": [
    {
     "data": {
      "text/html": [
       "<div>\n",
       "<style scoped>\n",
       "    .dataframe tbody tr th:only-of-type {\n",
       "        vertical-align: middle;\n",
       "    }\n",
       "\n",
       "    .dataframe tbody tr th {\n",
       "        vertical-align: top;\n",
       "    }\n",
       "\n",
       "    .dataframe thead th {\n",
       "        text-align: right;\n",
       "    }\n",
       "</style>\n",
       "<table border=\"1\" class=\"dataframe\">\n",
       "  <thead>\n",
       "    <tr style=\"text-align: right;\">\n",
       "      <th></th>\n",
       "      <th>ids</th>\n",
       "      <th>target_default</th>\n",
       "      <th>score_1</th>\n",
       "      <th>score_2</th>\n",
       "      <th>score_3</th>\n",
       "      <th>score_4</th>\n",
       "      <th>score_5</th>\n",
       "      <th>score_6</th>\n",
       "      <th>risk_rate</th>\n",
       "      <th>last_amount_borrowed</th>\n",
       "      <th>...</th>\n",
       "      <th>application_time_in_funnel</th>\n",
       "      <th>email</th>\n",
       "      <th>external_data_provider_credit_checks_last_2_year</th>\n",
       "      <th>external_data_provider_credit_checks_last_month</th>\n",
       "      <th>external_data_provider_credit_checks_last_year</th>\n",
       "      <th>external_data_provider_email_seen_before</th>\n",
       "      <th>external_data_provider_fraud_score</th>\n",
       "      <th>marketing_channel</th>\n",
       "      <th>reported_income</th>\n",
       "      <th>shipping_state</th>\n",
       "    </tr>\n",
       "  </thead>\n",
       "  <tbody>\n",
       "    <tr>\n",
       "      <th>0</th>\n",
       "      <td>343b7e7b-2cf8-e508-b8fd-0a0285af30aa</td>\n",
       "      <td>False</td>\n",
       "      <td>1Rk8w4Ucd5yR3KcqZzLdow==</td>\n",
       "      <td>IOVu8au3ISbo6+zmfnYwMg==</td>\n",
       "      <td>350.0</td>\n",
       "      <td>101.800832</td>\n",
       "      <td>0.259555</td>\n",
       "      <td>108.427273</td>\n",
       "      <td>0.40</td>\n",
       "      <td>25033.92</td>\n",
       "      <td>...</td>\n",
       "      <td>444</td>\n",
       "      <td>outlook.com</td>\n",
       "      <td>NaN</td>\n",
       "      <td>2</td>\n",
       "      <td>0.0</td>\n",
       "      <td>51.0</td>\n",
       "      <td>645</td>\n",
       "      <td>Invite-email</td>\n",
       "      <td>57849.0</td>\n",
       "      <td>BR-MT</td>\n",
       "    </tr>\n",
       "    <tr>\n",
       "      <th>1</th>\n",
       "      <td>bc2c7502-bbad-0f8c-39c3-94e881967124</td>\n",
       "      <td>False</td>\n",
       "      <td>DGCQep2AE5QRkNCshIAlFQ==</td>\n",
       "      <td>SaamrHMo23l/3TwXOWgVzw==</td>\n",
       "      <td>370.0</td>\n",
       "      <td>97.062615</td>\n",
       "      <td>0.942655</td>\n",
       "      <td>92.002546</td>\n",
       "      <td>0.24</td>\n",
       "      <td>NaN</td>\n",
       "      <td>...</td>\n",
       "      <td>346</td>\n",
       "      <td>gmail.com</td>\n",
       "      <td>0.0</td>\n",
       "      <td>1</td>\n",
       "      <td>0.0</td>\n",
       "      <td>17.0</td>\n",
       "      <td>243</td>\n",
       "      <td>Radio-commercial</td>\n",
       "      <td>4902.0</td>\n",
       "      <td>BR-RS</td>\n",
       "    </tr>\n",
       "    <tr>\n",
       "      <th>2</th>\n",
       "      <td>669630dd-2e6a-0396-84bf-455e5009c922</td>\n",
       "      <td>True</td>\n",
       "      <td>DGCQep2AE5QRkNCshIAlFQ==</td>\n",
       "      <td>Fv28Bz0YRTVAT5kl1bAV6g==</td>\n",
       "      <td>360.0</td>\n",
       "      <td>100.027073</td>\n",
       "      <td>0.351918</td>\n",
       "      <td>112.892453</td>\n",
       "      <td>0.29</td>\n",
       "      <td>7207.92</td>\n",
       "      <td>...</td>\n",
       "      <td>6</td>\n",
       "      <td>gmail.com</td>\n",
       "      <td>NaN</td>\n",
       "      <td>2</td>\n",
       "      <td>NaN</td>\n",
       "      <td>9.0</td>\n",
       "      <td>65</td>\n",
       "      <td>Waiting-list</td>\n",
       "      <td>163679.0</td>\n",
       "      <td>BR-RR</td>\n",
       "    </tr>\n",
       "    <tr>\n",
       "      <th>3</th>\n",
       "      <td>d235609e-b6cb-0ccc-a329-d4f12e7ebdc1</td>\n",
       "      <td>False</td>\n",
       "      <td>1Rk8w4Ucd5yR3KcqZzLdow==</td>\n",
       "      <td>dCm9hFKfdRm7ej3jW+gyxw==</td>\n",
       "      <td>510.0</td>\n",
       "      <td>101.599485</td>\n",
       "      <td>0.987673</td>\n",
       "      <td>94.902491</td>\n",
       "      <td>0.32</td>\n",
       "      <td>NaN</td>\n",
       "      <td>...</td>\n",
       "      <td>406</td>\n",
       "      <td>spgov.com</td>\n",
       "      <td>NaN</td>\n",
       "      <td>3</td>\n",
       "      <td>NaN</td>\n",
       "      <td>38.0</td>\n",
       "      <td>815</td>\n",
       "      <td>Waiting-list</td>\n",
       "      <td>1086.0</td>\n",
       "      <td>BR-RN</td>\n",
       "    </tr>\n",
       "    <tr>\n",
       "      <th>4</th>\n",
       "      <td>9e0eb880-e8f4-3faa-67d8-f5cdd2b3932b</td>\n",
       "      <td>False</td>\n",
       "      <td>8k8UDR4Yx0qasAjkGrUZLw==</td>\n",
       "      <td>+CxEO4w7jv3QPI/BQbyqAA==</td>\n",
       "      <td>500.0</td>\n",
       "      <td>98.474289</td>\n",
       "      <td>0.532539</td>\n",
       "      <td>118.126207</td>\n",
       "      <td>0.18</td>\n",
       "      <td>NaN</td>\n",
       "      <td>...</td>\n",
       "      <td>240</td>\n",
       "      <td>gmail.com</td>\n",
       "      <td>0.0</td>\n",
       "      <td>2</td>\n",
       "      <td>1.0</td>\n",
       "      <td>46.0</td>\n",
       "      <td>320</td>\n",
       "      <td>Invite-email</td>\n",
       "      <td>198618.0</td>\n",
       "      <td>BR-MT</td>\n",
       "    </tr>\n",
       "  </tbody>\n",
       "</table>\n",
       "<p>5 rows × 31 columns</p>\n",
       "</div>"
      ],
      "text/plain": [
       "                                    ids target_default  \\\n",
       "0  343b7e7b-2cf8-e508-b8fd-0a0285af30aa          False   \n",
       "1  bc2c7502-bbad-0f8c-39c3-94e881967124          False   \n",
       "2  669630dd-2e6a-0396-84bf-455e5009c922           True   \n",
       "3  d235609e-b6cb-0ccc-a329-d4f12e7ebdc1          False   \n",
       "4  9e0eb880-e8f4-3faa-67d8-f5cdd2b3932b          False   \n",
       "\n",
       "                    score_1                   score_2  score_3     score_4  \\\n",
       "0  1Rk8w4Ucd5yR3KcqZzLdow==  IOVu8au3ISbo6+zmfnYwMg==    350.0  101.800832   \n",
       "1  DGCQep2AE5QRkNCshIAlFQ==  SaamrHMo23l/3TwXOWgVzw==    370.0   97.062615   \n",
       "2  DGCQep2AE5QRkNCshIAlFQ==  Fv28Bz0YRTVAT5kl1bAV6g==    360.0  100.027073   \n",
       "3  1Rk8w4Ucd5yR3KcqZzLdow==  dCm9hFKfdRm7ej3jW+gyxw==    510.0  101.599485   \n",
       "4  8k8UDR4Yx0qasAjkGrUZLw==  +CxEO4w7jv3QPI/BQbyqAA==    500.0   98.474289   \n",
       "\n",
       "    score_5     score_6  risk_rate  last_amount_borrowed       ...        \\\n",
       "0  0.259555  108.427273       0.40              25033.92       ...         \n",
       "1  0.942655   92.002546       0.24                   NaN       ...         \n",
       "2  0.351918  112.892453       0.29               7207.92       ...         \n",
       "3  0.987673   94.902491       0.32                   NaN       ...         \n",
       "4  0.532539  118.126207       0.18                   NaN       ...         \n",
       "\n",
       "   application_time_in_funnel        email  \\\n",
       "0                         444  outlook.com   \n",
       "1                         346    gmail.com   \n",
       "2                           6    gmail.com   \n",
       "3                         406    spgov.com   \n",
       "4                         240    gmail.com   \n",
       "\n",
       "   external_data_provider_credit_checks_last_2_year  \\\n",
       "0                                               NaN   \n",
       "1                                               0.0   \n",
       "2                                               NaN   \n",
       "3                                               NaN   \n",
       "4                                               0.0   \n",
       "\n",
       "  external_data_provider_credit_checks_last_month  \\\n",
       "0                                               2   \n",
       "1                                               1   \n",
       "2                                               2   \n",
       "3                                               3   \n",
       "4                                               2   \n",
       "\n",
       "  external_data_provider_credit_checks_last_year  \\\n",
       "0                                            0.0   \n",
       "1                                            0.0   \n",
       "2                                            NaN   \n",
       "3                                            NaN   \n",
       "4                                            1.0   \n",
       "\n",
       "  external_data_provider_email_seen_before  \\\n",
       "0                                     51.0   \n",
       "1                                     17.0   \n",
       "2                                      9.0   \n",
       "3                                     38.0   \n",
       "4                                     46.0   \n",
       "\n",
       "   external_data_provider_fraud_score  marketing_channel  reported_income  \\\n",
       "0                                 645       Invite-email          57849.0   \n",
       "1                                 243   Radio-commercial           4902.0   \n",
       "2                                  65       Waiting-list         163679.0   \n",
       "3                                 815       Waiting-list           1086.0   \n",
       "4                                 320       Invite-email         198618.0   \n",
       "\n",
       "   shipping_state  \n",
       "0           BR-MT  \n",
       "1           BR-RS  \n",
       "2           BR-RR  \n",
       "3           BR-RN  \n",
       "4           BR-MT  \n",
       "\n",
       "[5 rows x 31 columns]"
      ]
     },
     "execution_count": 33,
     "metadata": {},
     "output_type": "execute_result"
    }
   ],
   "source": [
    "acquisition_bl.head()"
   ]
  },
  {
   "cell_type": "code",
   "execution_count": 96,
   "metadata": {
    "scrolled": true
   },
   "outputs": [],
   "source": [
    "def create_dummies(df,column_names, limit = 50):\n",
    "    df = df.copy()\n",
    "    for feature in column_names:\n",
    "        if len(df[feature].unique())>2 and len(df[feature].unique()) <= limit:\n",
    "            dummies = pd.get_dummies(df[feature],prefix=feature,dummy_na=True, drop_first = False) # não sei ao certo se caga colocar true\n",
    "            df = pd.concat([df,dummies],axis=1)\n",
    "            df.drop(feature, axis = 1, inplace = True)\n",
    "    return df"
   ]
  },
  {
   "cell_type": "code",
   "execution_count": 97,
   "metadata": {
    "scrolled": true
   },
   "outputs": [
    {
     "data": {
      "text/plain": [
       "ids                                                  object\n",
       "target_default                                       object\n",
       "score_3                                             float64\n",
       "score_4                                             float64\n",
       "score_5                                             float64\n",
       "score_6                                             float64\n",
       "risk_rate                                           float64\n",
       "last_amount_borrowed                                float64\n",
       "credit_limit                                        float64\n",
       "income                                              float64\n",
       "ok_since                                            float64\n",
       "application_time_in_funnel                            int64\n",
       "external_data_provider_credit_checks_last_2_year    float64\n",
       "external_data_provider_email_seen_before            float64\n",
       "external_data_provider_fraud_score                    int64\n",
       "reported_income                                     float64\n",
       "score_1_1Rk8w4Ucd5yR3KcqZzLdow==                      uint8\n",
       "score_1_4DLlLW62jReXaqbPaHp1vQ==                      uint8\n",
       "score_1_8k8UDR4Yx0qasAjkGrUZLw==                      uint8\n",
       "score_1_DGCQep2AE5QRkNCshIAlFQ==                      uint8\n",
       "score_1_e4NYDor1NOw6XKGE60AWFw==                      uint8\n",
       "score_1_fyrlulOiZ+5hoFqLa6UbDQ==                      uint8\n",
       "score_1_smzX0nxh5QlePvtVf6EAeg==                      uint8\n",
       "score_1_nan                                           uint8\n",
       "score_2_+2hzpeP1RWr8PEvL1WTUdw==                      uint8\n",
       "score_2_+CxEO4w7jv3QPI/BQbyqAA==                      uint8\n",
       "score_2_/tdlnWjXoZ3OjdtBXzdOJQ==                      uint8\n",
       "score_2_5/uMrqKj3OL/Xk5OrGx9fg==                      uint8\n",
       "score_2_55UK234RR1d7HIWJjmq9tw==                      uint8\n",
       "score_2_6J1ZMTzN5GKHXnhM4J1JbA==                      uint8\n",
       "                                                     ...   \n",
       "marketing_channel_Twitter                             uint8\n",
       "marketing_channel_Waiting-list                        uint8\n",
       "marketing_channel_Website                             uint8\n",
       "marketing_channel_nan                                 uint8\n",
       "shipping_state_BR-AC                                  uint8\n",
       "shipping_state_BR-AL                                  uint8\n",
       "shipping_state_BR-AM                                  uint8\n",
       "shipping_state_BR-AP                                  uint8\n",
       "shipping_state_BR-BA                                  uint8\n",
       "shipping_state_BR-CE                                  uint8\n",
       "shipping_state_BR-DF                                  uint8\n",
       "shipping_state_BR-ES                                  uint8\n",
       "shipping_state_BR-GO                                  uint8\n",
       "shipping_state_BR-MA                                  uint8\n",
       "shipping_state_BR-MG                                  uint8\n",
       "shipping_state_BR-MS                                  uint8\n",
       "shipping_state_BR-MT                                  uint8\n",
       "shipping_state_BR-PA                                  uint8\n",
       "shipping_state_BR-PB                                  uint8\n",
       "shipping_state_BR-PE                                  uint8\n",
       "shipping_state_BR-PR                                  uint8\n",
       "shipping_state_BR-RN                                  uint8\n",
       "shipping_state_BR-RO                                  uint8\n",
       "shipping_state_BR-RR                                  uint8\n",
       "shipping_state_BR-RS                                  uint8\n",
       "shipping_state_BR-SC                                  uint8\n",
       "shipping_state_BR-SE                                  uint8\n",
       "shipping_state_BR-SP                                  uint8\n",
       "shipping_state_BR-TO                                  uint8\n",
       "shipping_state_nan                                    uint8\n",
       "Length: 277, dtype: object"
      ]
     },
     "execution_count": 97,
     "metadata": {},
     "output_type": "execute_result"
    }
   ],
   "source": [
    "acquisition_ohe = create_dummies(acquisition_bl, acquisition_bl.columns)\n",
    "acquisition_ohe.dtypes"
   ]
  },
  {
   "cell_type": "markdown",
   "metadata": {},
   "source": [
    "### Missing Values"
   ]
  },
  {
   "cell_type": "code",
   "execution_count": 98,
   "metadata": {},
   "outputs": [],
   "source": [
    "acquisition_ohe.fillna(-1, inplace=True)"
   ]
  },
  {
   "cell_type": "markdown",
   "metadata": {},
   "source": [
    "### DF de Propensão a gasto"
   ]
  },
  {
   "cell_type": "code",
   "execution_count": 99,
   "metadata": {
    "scrolled": true
   },
   "outputs": [
    {
     "data": {
      "text/html": [
       "<div>\n",
       "<style scoped>\n",
       "    .dataframe tbody tr th:only-of-type {\n",
       "        vertical-align: middle;\n",
       "    }\n",
       "\n",
       "    .dataframe tbody tr th {\n",
       "        vertical-align: top;\n",
       "    }\n",
       "\n",
       "    .dataframe thead th {\n",
       "        text-align: right;\n",
       "    }\n",
       "</style>\n",
       "<table border=\"1\" class=\"dataframe\">\n",
       "  <thead>\n",
       "    <tr style=\"text-align: right;\">\n",
       "      <th></th>\n",
       "      <th>ids</th>\n",
       "      <th>score_3</th>\n",
       "      <th>score_4</th>\n",
       "      <th>score_5</th>\n",
       "      <th>score_6</th>\n",
       "      <th>risk_rate</th>\n",
       "      <th>last_amount_borrowed</th>\n",
       "      <th>credit_limit</th>\n",
       "      <th>income</th>\n",
       "      <th>ok_since</th>\n",
       "      <th>...</th>\n",
       "      <th>shipping_state_BR-RN</th>\n",
       "      <th>shipping_state_BR-RO</th>\n",
       "      <th>shipping_state_BR-RR</th>\n",
       "      <th>shipping_state_BR-RS</th>\n",
       "      <th>shipping_state_BR-SC</th>\n",
       "      <th>shipping_state_BR-SE</th>\n",
       "      <th>shipping_state_BR-SP</th>\n",
       "      <th>shipping_state_BR-TO</th>\n",
       "      <th>shipping_state_nan</th>\n",
       "      <th>spends</th>\n",
       "    </tr>\n",
       "  </thead>\n",
       "  <tbody>\n",
       "    <tr>\n",
       "      <th>0</th>\n",
       "      <td>343b7e7b-2cf8-e508-b8fd-0a0285af30aa</td>\n",
       "      <td>350.0</td>\n",
       "      <td>101.800832</td>\n",
       "      <td>0.259555</td>\n",
       "      <td>108.427273</td>\n",
       "      <td>0.40</td>\n",
       "      <td>25033.92</td>\n",
       "      <td>0.0</td>\n",
       "      <td>65014.12</td>\n",
       "      <td>-1.0</td>\n",
       "      <td>...</td>\n",
       "      <td>0</td>\n",
       "      <td>0</td>\n",
       "      <td>0</td>\n",
       "      <td>0</td>\n",
       "      <td>0</td>\n",
       "      <td>0</td>\n",
       "      <td>0</td>\n",
       "      <td>0</td>\n",
       "      <td>0</td>\n",
       "      <td>853.378929</td>\n",
       "    </tr>\n",
       "    <tr>\n",
       "      <th>1</th>\n",
       "      <td>bc2c7502-bbad-0f8c-39c3-94e881967124</td>\n",
       "      <td>370.0</td>\n",
       "      <td>97.062615</td>\n",
       "      <td>0.942655</td>\n",
       "      <td>92.002546</td>\n",
       "      <td>0.24</td>\n",
       "      <td>-1.00</td>\n",
       "      <td>39726.0</td>\n",
       "      <td>100018.91</td>\n",
       "      <td>50.0</td>\n",
       "      <td>...</td>\n",
       "      <td>0</td>\n",
       "      <td>0</td>\n",
       "      <td>0</td>\n",
       "      <td>1</td>\n",
       "      <td>0</td>\n",
       "      <td>0</td>\n",
       "      <td>0</td>\n",
       "      <td>0</td>\n",
       "      <td>0</td>\n",
       "      <td>1257.403200</td>\n",
       "    </tr>\n",
       "    <tr>\n",
       "      <th>2</th>\n",
       "      <td>669630dd-2e6a-0396-84bf-455e5009c922</td>\n",
       "      <td>360.0</td>\n",
       "      <td>100.027073</td>\n",
       "      <td>0.351918</td>\n",
       "      <td>112.892453</td>\n",
       "      <td>0.29</td>\n",
       "      <td>7207.92</td>\n",
       "      <td>-1.0</td>\n",
       "      <td>65023.65</td>\n",
       "      <td>-1.0</td>\n",
       "      <td>...</td>\n",
       "      <td>0</td>\n",
       "      <td>0</td>\n",
       "      <td>1</td>\n",
       "      <td>0</td>\n",
       "      <td>0</td>\n",
       "      <td>0</td>\n",
       "      <td>0</td>\n",
       "      <td>0</td>\n",
       "      <td>0</td>\n",
       "      <td>634.263636</td>\n",
       "    </tr>\n",
       "    <tr>\n",
       "      <th>3</th>\n",
       "      <td>d235609e-b6cb-0ccc-a329-d4f12e7ebdc1</td>\n",
       "      <td>510.0</td>\n",
       "      <td>101.599485</td>\n",
       "      <td>0.987673</td>\n",
       "      <td>94.902491</td>\n",
       "      <td>0.32</td>\n",
       "      <td>-1.00</td>\n",
       "      <td>54591.0</td>\n",
       "      <td>68830.01</td>\n",
       "      <td>-1.0</td>\n",
       "      <td>...</td>\n",
       "      <td>1</td>\n",
       "      <td>0</td>\n",
       "      <td>0</td>\n",
       "      <td>0</td>\n",
       "      <td>0</td>\n",
       "      <td>0</td>\n",
       "      <td>0</td>\n",
       "      <td>0</td>\n",
       "      <td>0</td>\n",
       "      <td>3877.269231</td>\n",
       "    </tr>\n",
       "    <tr>\n",
       "      <th>4</th>\n",
       "      <td>9e0eb880-e8f4-3faa-67d8-f5cdd2b3932b</td>\n",
       "      <td>500.0</td>\n",
       "      <td>98.474289</td>\n",
       "      <td>0.532539</td>\n",
       "      <td>118.126207</td>\n",
       "      <td>0.18</td>\n",
       "      <td>-1.00</td>\n",
       "      <td>-1.0</td>\n",
       "      <td>60011.29</td>\n",
       "      <td>-1.0</td>\n",
       "      <td>...</td>\n",
       "      <td>0</td>\n",
       "      <td>0</td>\n",
       "      <td>0</td>\n",
       "      <td>0</td>\n",
       "      <td>0</td>\n",
       "      <td>0</td>\n",
       "      <td>0</td>\n",
       "      <td>0</td>\n",
       "      <td>0</td>\n",
       "      <td>1373.506190</td>\n",
       "    </tr>\n",
       "  </tbody>\n",
       "</table>\n",
       "<p>5 rows × 277 columns</p>\n",
       "</div>"
      ],
      "text/plain": [
       "                                    ids  score_3     score_4   score_5  \\\n",
       "0  343b7e7b-2cf8-e508-b8fd-0a0285af30aa    350.0  101.800832  0.259555   \n",
       "1  bc2c7502-bbad-0f8c-39c3-94e881967124    370.0   97.062615  0.942655   \n",
       "2  669630dd-2e6a-0396-84bf-455e5009c922    360.0  100.027073  0.351918   \n",
       "3  d235609e-b6cb-0ccc-a329-d4f12e7ebdc1    510.0  101.599485  0.987673   \n",
       "4  9e0eb880-e8f4-3faa-67d8-f5cdd2b3932b    500.0   98.474289  0.532539   \n",
       "\n",
       "      score_6  risk_rate  last_amount_borrowed  credit_limit     income  \\\n",
       "0  108.427273       0.40              25033.92           0.0   65014.12   \n",
       "1   92.002546       0.24                 -1.00       39726.0  100018.91   \n",
       "2  112.892453       0.29               7207.92          -1.0   65023.65   \n",
       "3   94.902491       0.32                 -1.00       54591.0   68830.01   \n",
       "4  118.126207       0.18                 -1.00          -1.0   60011.29   \n",
       "\n",
       "   ok_since     ...       shipping_state_BR-RN  shipping_state_BR-RO  \\\n",
       "0      -1.0     ...                          0                     0   \n",
       "1      50.0     ...                          0                     0   \n",
       "2      -1.0     ...                          0                     0   \n",
       "3      -1.0     ...                          1                     0   \n",
       "4      -1.0     ...                          0                     0   \n",
       "\n",
       "   shipping_state_BR-RR  shipping_state_BR-RS  shipping_state_BR-SC  \\\n",
       "0                     0                     0                     0   \n",
       "1                     0                     1                     0   \n",
       "2                     1                     0                     0   \n",
       "3                     0                     0                     0   \n",
       "4                     0                     0                     0   \n",
       "\n",
       "   shipping_state_BR-SE  shipping_state_BR-SP  shipping_state_BR-TO  \\\n",
       "0                     0                     0                     0   \n",
       "1                     0                     0                     0   \n",
       "2                     0                     0                     0   \n",
       "3                     0                     0                     0   \n",
       "4                     0                     0                     0   \n",
       "\n",
       "   shipping_state_nan       spends  \n",
       "0                   0   853.378929  \n",
       "1                   0  1257.403200  \n",
       "2                   0   634.263636  \n",
       "3                   0  3877.269231  \n",
       "4                   0  1373.506190  \n",
       "\n",
       "[5 rows x 277 columns]"
      ]
     },
     "execution_count": 99,
     "metadata": {},
     "output_type": "execute_result"
    }
   ],
   "source": [
    "id_spends = spend.groupby('ids').spends.mean(); id_spends.head()\n",
    "spend_bl = acquisition_ohe.join(id_spends, on = 'ids', how = 'left')\n",
    "spend_bl.drop(['target_default'], axis = 1, inplace = True); spend_bl.head()"
   ]
  },
  {
   "cell_type": "markdown",
   "metadata": {},
   "source": [
    "### DF de Fraude"
   ]
  },
  {
   "cell_type": "code",
   "execution_count": 100,
   "metadata": {},
   "outputs": [
    {
     "data": {
      "text/html": [
       "<div>\n",
       "<style scoped>\n",
       "    .dataframe tbody tr th:only-of-type {\n",
       "        vertical-align: middle;\n",
       "    }\n",
       "\n",
       "    .dataframe tbody tr th {\n",
       "        vertical-align: top;\n",
       "    }\n",
       "\n",
       "    .dataframe thead th {\n",
       "        text-align: right;\n",
       "    }\n",
       "</style>\n",
       "<table border=\"1\" class=\"dataframe\">\n",
       "  <thead>\n",
       "    <tr style=\"text-align: right;\">\n",
       "      <th></th>\n",
       "      <th>ids</th>\n",
       "      <th>score_3</th>\n",
       "      <th>score_4</th>\n",
       "      <th>score_5</th>\n",
       "      <th>score_6</th>\n",
       "      <th>risk_rate</th>\n",
       "      <th>last_amount_borrowed</th>\n",
       "      <th>credit_limit</th>\n",
       "      <th>income</th>\n",
       "      <th>ok_since</th>\n",
       "      <th>...</th>\n",
       "      <th>shipping_state_BR-RN</th>\n",
       "      <th>shipping_state_BR-RO</th>\n",
       "      <th>shipping_state_BR-RR</th>\n",
       "      <th>shipping_state_BR-RS</th>\n",
       "      <th>shipping_state_BR-SC</th>\n",
       "      <th>shipping_state_BR-SE</th>\n",
       "      <th>shipping_state_BR-SP</th>\n",
       "      <th>shipping_state_BR-TO</th>\n",
       "      <th>shipping_state_nan</th>\n",
       "      <th>target_fraud</th>\n",
       "    </tr>\n",
       "  </thead>\n",
       "  <tbody>\n",
       "    <tr>\n",
       "      <th>0</th>\n",
       "      <td>343b7e7b-2cf8-e508-b8fd-0a0285af30aa</td>\n",
       "      <td>350.0</td>\n",
       "      <td>101.800832</td>\n",
       "      <td>0.259555</td>\n",
       "      <td>108.427273</td>\n",
       "      <td>0.40</td>\n",
       "      <td>25033.92</td>\n",
       "      <td>0.0</td>\n",
       "      <td>65014.12</td>\n",
       "      <td>-1.0</td>\n",
       "      <td>...</td>\n",
       "      <td>0</td>\n",
       "      <td>0</td>\n",
       "      <td>0</td>\n",
       "      <td>0</td>\n",
       "      <td>0</td>\n",
       "      <td>0</td>\n",
       "      <td>0</td>\n",
       "      <td>0</td>\n",
       "      <td>0</td>\n",
       "      <td>False</td>\n",
       "    </tr>\n",
       "    <tr>\n",
       "      <th>1</th>\n",
       "      <td>bc2c7502-bbad-0f8c-39c3-94e881967124</td>\n",
       "      <td>370.0</td>\n",
       "      <td>97.062615</td>\n",
       "      <td>0.942655</td>\n",
       "      <td>92.002546</td>\n",
       "      <td>0.24</td>\n",
       "      <td>-1.00</td>\n",
       "      <td>39726.0</td>\n",
       "      <td>100018.91</td>\n",
       "      <td>50.0</td>\n",
       "      <td>...</td>\n",
       "      <td>0</td>\n",
       "      <td>0</td>\n",
       "      <td>0</td>\n",
       "      <td>1</td>\n",
       "      <td>0</td>\n",
       "      <td>0</td>\n",
       "      <td>0</td>\n",
       "      <td>0</td>\n",
       "      <td>0</td>\n",
       "      <td>False</td>\n",
       "    </tr>\n",
       "    <tr>\n",
       "      <th>2</th>\n",
       "      <td>669630dd-2e6a-0396-84bf-455e5009c922</td>\n",
       "      <td>360.0</td>\n",
       "      <td>100.027073</td>\n",
       "      <td>0.351918</td>\n",
       "      <td>112.892453</td>\n",
       "      <td>0.29</td>\n",
       "      <td>7207.92</td>\n",
       "      <td>-1.0</td>\n",
       "      <td>65023.65</td>\n",
       "      <td>-1.0</td>\n",
       "      <td>...</td>\n",
       "      <td>0</td>\n",
       "      <td>0</td>\n",
       "      <td>1</td>\n",
       "      <td>0</td>\n",
       "      <td>0</td>\n",
       "      <td>0</td>\n",
       "      <td>0</td>\n",
       "      <td>0</td>\n",
       "      <td>0</td>\n",
       "      <td>False</td>\n",
       "    </tr>\n",
       "    <tr>\n",
       "      <th>3</th>\n",
       "      <td>d235609e-b6cb-0ccc-a329-d4f12e7ebdc1</td>\n",
       "      <td>510.0</td>\n",
       "      <td>101.599485</td>\n",
       "      <td>0.987673</td>\n",
       "      <td>94.902491</td>\n",
       "      <td>0.32</td>\n",
       "      <td>-1.00</td>\n",
       "      <td>54591.0</td>\n",
       "      <td>68830.01</td>\n",
       "      <td>-1.0</td>\n",
       "      <td>...</td>\n",
       "      <td>1</td>\n",
       "      <td>0</td>\n",
       "      <td>0</td>\n",
       "      <td>0</td>\n",
       "      <td>0</td>\n",
       "      <td>0</td>\n",
       "      <td>0</td>\n",
       "      <td>0</td>\n",
       "      <td>0</td>\n",
       "      <td>False</td>\n",
       "    </tr>\n",
       "    <tr>\n",
       "      <th>4</th>\n",
       "      <td>9e0eb880-e8f4-3faa-67d8-f5cdd2b3932b</td>\n",
       "      <td>500.0</td>\n",
       "      <td>98.474289</td>\n",
       "      <td>0.532539</td>\n",
       "      <td>118.126207</td>\n",
       "      <td>0.18</td>\n",
       "      <td>-1.00</td>\n",
       "      <td>-1.0</td>\n",
       "      <td>60011.29</td>\n",
       "      <td>-1.0</td>\n",
       "      <td>...</td>\n",
       "      <td>0</td>\n",
       "      <td>0</td>\n",
       "      <td>0</td>\n",
       "      <td>0</td>\n",
       "      <td>0</td>\n",
       "      <td>0</td>\n",
       "      <td>0</td>\n",
       "      <td>0</td>\n",
       "      <td>0</td>\n",
       "      <td>False</td>\n",
       "    </tr>\n",
       "  </tbody>\n",
       "</table>\n",
       "<p>5 rows × 277 columns</p>\n",
       "</div>"
      ],
      "text/plain": [
       "                                    ids  score_3     score_4   score_5  \\\n",
       "0  343b7e7b-2cf8-e508-b8fd-0a0285af30aa    350.0  101.800832  0.259555   \n",
       "1  bc2c7502-bbad-0f8c-39c3-94e881967124    370.0   97.062615  0.942655   \n",
       "2  669630dd-2e6a-0396-84bf-455e5009c922    360.0  100.027073  0.351918   \n",
       "3  d235609e-b6cb-0ccc-a329-d4f12e7ebdc1    510.0  101.599485  0.987673   \n",
       "4  9e0eb880-e8f4-3faa-67d8-f5cdd2b3932b    500.0   98.474289  0.532539   \n",
       "\n",
       "      score_6  risk_rate  last_amount_borrowed  credit_limit     income  \\\n",
       "0  108.427273       0.40              25033.92           0.0   65014.12   \n",
       "1   92.002546       0.24                 -1.00       39726.0  100018.91   \n",
       "2  112.892453       0.29               7207.92          -1.0   65023.65   \n",
       "3   94.902491       0.32                 -1.00       54591.0   68830.01   \n",
       "4  118.126207       0.18                 -1.00          -1.0   60011.29   \n",
       "\n",
       "   ok_since      ...       shipping_state_BR-RN  shipping_state_BR-RO  \\\n",
       "0      -1.0      ...                          0                     0   \n",
       "1      50.0      ...                          0                     0   \n",
       "2      -1.0      ...                          0                     0   \n",
       "3      -1.0      ...                          1                     0   \n",
       "4      -1.0      ...                          0                     0   \n",
       "\n",
       "   shipping_state_BR-RR  shipping_state_BR-RS  shipping_state_BR-SC  \\\n",
       "0                     0                     0                     0   \n",
       "1                     0                     1                     0   \n",
       "2                     1                     0                     0   \n",
       "3                     0                     0                     0   \n",
       "4                     0                     0                     0   \n",
       "\n",
       "   shipping_state_BR-SE  shipping_state_BR-SP  shipping_state_BR-TO  \\\n",
       "0                     0                     0                     0   \n",
       "1                     0                     0                     0   \n",
       "2                     0                     0                     0   \n",
       "3                     0                     0                     0   \n",
       "4                     0                     0                     0   \n",
       "\n",
       "   shipping_state_nan  target_fraud  \n",
       "0                   0         False  \n",
       "1                   0         False  \n",
       "2                   0         False  \n",
       "3                   0         False  \n",
       "4                   0         False  \n",
       "\n",
       "[5 rows x 277 columns]"
      ]
     },
     "execution_count": 100,
     "metadata": {},
     "output_type": "execute_result"
    }
   ],
   "source": [
    "n_fraud = acquisition[['ids', 'target_fraud']]\n",
    "n_fraud.replace(np.nan, False, inplace = True)\n",
    "n_fraud.loc[n_fraud.target_fraud != False, 'target_fraud'] = True;\n",
    "fraud_bl = acquisition_ohe.merge(n_fraud, on = 'ids', how = 'left')\n",
    "fraud_bl.drop('target_default', axis = 1, inplace = True) ; fraud_bl.head()"
   ]
  },
  {
   "cell_type": "markdown",
   "metadata": {},
   "source": [
    "### Baseline Models"
   ]
  },
  {
   "cell_type": "markdown",
   "metadata": {},
   "source": [
    "Parâmetros comuns a todo o trabalho"
   ]
  },
  {
   "cell_type": "code",
   "execution_count": 65,
   "metadata": {},
   "outputs": [],
   "source": [
    "# Definindo o tamanho das amostras\n",
    "teste_size = 0.3\n",
    "\n",
    "# Garante que os resultados podem ser reproduzidos\n",
    "seed = 666\n",
    "\n",
    "# Quantidade de CV a serem usadas\n",
    "num_folds = 10\n"
   ]
  },
  {
   "cell_type": "markdown",
   "metadata": {},
   "source": [
    "Funções para otimizar teste de diversos modelos junto a CVs e avaliar desempenho nos dados de teste"
   ]
  },
  {
   "cell_type": "code",
   "execution_count": 154,
   "metadata": {},
   "outputs": [],
   "source": [
    "# Import do módulo\n",
    "from sklearn import model_selection\n",
    "from sklearn.metrics import roc_auc_score, mean_squared_error\n",
    "\n",
    "## Função para comparação\n",
    "def compara_cv_modelos (X, y, modelos, num_folds = num_folds, seed = seed, scoring = 'roc_auc', Stratified = False):\n",
    "    # Avaliando cada modelo\n",
    "    resultados = []\n",
    "    nomes = []\n",
    "    \n",
    "    for nome, modelo in modelos:\n",
    "        if Stratified:\n",
    "            kfold = model_selection.StratifiedKFold(n_splits = num_folds, random_state = seed)# stratified é necessário para class imbalance \n",
    "        else:\n",
    "            kfold = model_selection.KFold(n_splits = num_folds, random_state = seed)\n",
    "            \n",
    "        cv_results = model_selection.cross_val_score(modelo, X, y, cv = kfold, scoring = scoring)\n",
    "        resultados.append(cv_results)\n",
    "        nomes.append(nome)\n",
    "        msg = \"%s: %f (%f)\" % (nome, cv_results.mean(), cv_results.std())\n",
    "        print(msg)\n",
    "   # Boxplot para comparar os algoritmos\n",
    "    fig = plt.figure()\n",
    "    fig.suptitle('Comparação de Algoritmos de Classificação')\n",
    "    ax = fig.add_subplot(111)\n",
    "    plt.boxplot(resultados)\n",
    "    ax.set_xticklabels(nomes)\n",
    "    plt.show() \n",
    "    \n",
    "def eval_model_c(X_treino, X_teste, y_treino, y_teste, modelos):\n",
    "    for nome,modelo in modelos:\n",
    "        modelo.fit(X_treino, y_treino)\n",
    "        # Compute predicted probabilities: y_pred_prob\n",
    "        y_pred_prob = modelo.predict_proba(X_teste)[:,1]\n",
    "        # Compute and print AUC score\n",
    "        msg = \"%s: %f\" % (nome, roc_auc_score(y_teste, y_pred_prob))\n",
    "        print(msg)\n",
    "\n",
    "def eval_model_r(X_treino, X_teste, y_treino, y_teste, modelos):\n",
    "    for nome,modelo in modelos:\n",
    "        modelo.fit(X_treino, y_treino)\n",
    "        # Compute predicted values\n",
    "        y_pred = modelo.predict(X_teste)\n",
    "        # Compute and print AUC score\n",
    "        msg = \"%s: %f\" % (nome, mean_squared_error(y_teste, y_pred))\n",
    "        print(msg)        "
   ]
  },
  {
   "cell_type": "markdown",
   "metadata": {},
   "source": [
    "Tupples de algorítmos de regressão e classificação"
   ]
  },
  {
   "cell_type": "code",
   "execution_count": 175,
   "metadata": {},
   "outputs": [],
   "source": [
    "## Classificação\n",
    "\n",
    "# Import dos módulos\n",
    "from sklearn.linear_model import LogisticRegression\n",
    "from sklearn.ensemble import RandomForestClassifier\n",
    "from sklearn.neighbors import KNeighborsClassifier\n",
    "from sklearn.discriminant_analysis import LinearDiscriminantAnalysis\n",
    "from sklearn.naive_bayes import GaussianNB\n",
    "#from sklearn.svm import SVC # só usarei quando houver menos dimensões, senão demora demais para treinar\n",
    "from xgboost import XGBClassifier\n",
    "\n",
    "# Preparando os modelo\n",
    "modelos_cla = []\n",
    "modelos_cla.append(('LR', LogisticRegression()))\n",
    "modelos_cla.append(('LDA', LinearDiscriminantAnalysis()))\n",
    "modelos_cla.append(('NB', GaussianNB()))\n",
    "modelos_cla.append(('KNN', KNeighborsClassifier()))\n",
    "modelos_cla.append(('RF', RandomForestClassifier()))\n",
    "#modelos.append(('SVM', SVC()))\n",
    "modelos_cla.append(('XGB', XGBClassifier()))\n",
    "\n",
    "## Regressão\n",
    "# Import dos módulos\n",
    "from sklearn.linear_model import LinearRegression\n",
    "from sklearn.ensemble import RandomForestRegressor\n",
    "from sklearn.neighbors import KNeighborsRegressor\n",
    "from sklearn.linear_model import ElasticNet\n",
    "from sklearn.naive_bayes import GaussianNB\n",
    "#from sklearn.svm import SVC\n",
    "from xgboost import XGBRegressor\n",
    "\n",
    "# Preparando os modelo\n",
    "modelos_reg = []\n",
    "modelos_reg.append(('LR', LinearRegression()))\n",
    "modelos_reg.append(('EN', ElasticNet()))\n",
    "modelos_reg.append(('KNN', KNeighborsRegressor()))\n",
    "modelos_reg.append(('RF', RandomForestRegressor()))\n",
    "#modelos_reg.append(('SVM', SVC()))\n",
    "modelos_reg.append(('XGB', XGBRegressor()))\n"
   ]
  },
  {
   "cell_type": "markdown",
   "metadata": {},
   "source": [
    "Descarte da Coluna 'ids' para evitar overfitting"
   ]
  },
  {
   "cell_type": "code",
   "execution_count": 101,
   "metadata": {},
   "outputs": [],
   "source": [
    "for df in [acquisition_ohe, spend_bl, fraud_bl]:\n",
    "    df.drop('ids', axis = 1, inplace = True)"
   ]
  },
  {
   "cell_type": "markdown",
   "metadata": {},
   "source": [
    "### Risco de Crédito"
   ]
  },
  {
   "cell_type": "markdown",
   "metadata": {},
   "source": [
    "Separação em Dados de Teste e Treino"
   ]
  },
  {
   "cell_type": "code",
   "execution_count": 125,
   "metadata": {},
   "outputs": [],
   "source": [
    "# Separando o array em componentes de input e output\n",
    "y = acquisition_ohe.iloc[:,0]\n",
    "X = acquisition_ohe.iloc[:,1:]\n",
    "\n",
    "# Criando os conjuntos de dados de treino e de teste\n",
    "X_treino, X_teste, y_treino, y_teste = model_selection.train_test_split(X, y, \n",
    "                                                                         test_size = teste_size, \n",
    "                                                                         random_state = seed)"
   ]
  },
  {
   "cell_type": "markdown",
   "metadata": {},
   "source": [
    "Import dos módulos, escolha dos modelos e call da função"
   ]
  },
  {
   "cell_type": "code",
   "execution_count": 103,
   "metadata": {
    "scrolled": true
   },
   "outputs": [
    {
     "name": "stdout",
     "output_type": "stream",
     "text": [
      "LR: 0.499977 (0.013746)\n",
      "LDA: 0.708215 (0.007857)\n",
      "NB: 0.546516 (0.010395)\n",
      "KNN: 0.520540 (0.015356)\n",
      "RF: 0.632136 (0.013955)\n",
      "XGB: 0.721405 (0.008738)\n"
     ]
    },
    {
     "data": {
      "image/png": "[encoded data removed]",
      "text/plain": [
       "<Figure size 432x288 with 1 Axes>"
      ]
     },
     "metadata": {},
     "output_type": "display_data"
    }
   ],
   "source": [
    "# Function call\n",
    "compara_cv_modelos (X_treino, y_treino, modelos_cla, Stratified = True)"
   ]
  },
  {
   "cell_type": "markdown",
   "metadata": {},
   "source": [
    "Score dos melhores modelos nos dados de teste"
   ]
  },
  {
   "cell_type": "code",
   "execution_count": 155,
   "metadata": {
    "scrolled": true
   },
   "outputs": [
    {
     "name": "stdout",
     "output_type": "stream",
     "text": [
      "LDA: 0.709354\n",
      "XGB: 0.725452\n"
     ]
    }
   ],
   "source": [
    "# func call\n",
    "eval_model_c(X_treino, X_teste, y_treino, y_teste, [modelos_cla[1], modelos_cla[5]])"
   ]
  },
  {
   "cell_type": "markdown",
   "metadata": {},
   "source": [
    "### Propensão a Gasto"
   ]
  },
  {
   "cell_type": "markdown",
   "metadata": {},
   "source": [
    "Separação em Dados de Teste e Treino"
   ]
  },
  {
   "cell_type": "code",
   "execution_count": 75,
   "metadata": {},
   "outputs": [],
   "source": [
    "# Separando o target array\n",
    "y_s = spend_bl.iloc[:,-1]\n",
    "\n",
    "# Criando os conjuntos de dados de treino e de teste\n",
    "y_s_treino = y_s[y_treino.index]\n",
    "y_s_teste = y_s[y_teste.index]"
   ]
  },
  {
   "cell_type": "markdown",
   "metadata": {},
   "source": [
    "Import dos módulos, escolha dos modelos e call da função"
   ]
  },
  {
   "cell_type": "code",
   "execution_count": 77,
   "metadata": {},
   "outputs": [
    {
     "name": "stdout",
     "output_type": "stream",
     "text": [
      "LR: -4582898.282531 (75641.372760)\n",
      "EN: -4553196.478693 (75020.920547)\n",
      "KNN: -5471760.231433 (82268.657134)\n",
      "RF: -5132396.372742 (90091.592449)\n",
      "XGB: -4569303.676100 (79130.160484)\n"
     ]
    },
    {
     "data": {
      "image/png": "[encoded data removed]",
      "text/plain": [
       "<Figure size 432x288 with 1 Axes>"
      ]
     },
     "metadata": {},
     "output_type": "display_data"
    }
   ],
   "source": [
    "# Function call\n",
    "compara_cv_modelos (X_treino, y_s_treino, modelos_reg, scoring = 'neg_mean_squared_error')"
   ]
  },
  {
   "cell_type": "markdown",
   "metadata": {},
   "source": [
    "Score dos melhores modelos nos dados de teste"
   ]
  },
  {
   "cell_type": "code",
   "execution_count": 177,
   "metadata": {
    "scrolled": true
   },
   "outputs": [
    {
     "name": "stdout",
     "output_type": "stream",
     "text": [
      "EN: 4616533.240179\n",
      "XGB: 4631558.769294\n"
     ]
    }
   ],
   "source": [
    "# func call\n",
    "eval_model_r(X_treino, X_teste, y_s_treino, y_s_teste, [modelos_reg[1], modelos_reg[4]])"
   ]
  },
  {
   "cell_type": "markdown",
   "metadata": {},
   "source": [
    "### Risco de Fraude"
   ]
  },
  {
   "cell_type": "markdown",
   "metadata": {},
   "source": [
    "Separação em Dados de Teste e Treino"
   ]
  },
  {
   "cell_type": "code",
   "execution_count": 114,
   "metadata": {},
   "outputs": [],
   "source": [
    "# Separando o target array\n",
    "y_f = fraud_bl.iloc[:,-1].astype('bool')\n",
    "\n",
    "# Criando os conjuntos de dados de treino e de teste\n",
    "y_f_treino = y_f[y_treino.index]\n",
    "y_f_teste = y_f[y_teste.index]"
   ]
  },
  {
   "cell_type": "markdown",
   "metadata": {},
   "source": [
    "Call da Função"
   ]
  },
  {
   "cell_type": "code",
   "execution_count": 115,
   "metadata": {},
   "outputs": [
    {
     "name": "stdout",
     "output_type": "stream",
     "text": [
      "LR: 0.486067 (0.022448)\n",
      "LDA: 0.672220 (0.017662)\n",
      "NB: 0.521508 (0.039543)\n",
      "KNN: 0.489762 (0.008513)\n",
      "RF: 0.583625 (0.027224)\n",
      "XGB: 0.763352 (0.021307)\n"
     ]
    },
    {
     "data": {
      "image/png": "[encoded data removed]",
      "text/plain": [
       "<Figure size 432x288 with 1 Axes>"
      ]
     },
     "metadata": {},
     "output_type": "display_data"
    }
   ],
   "source": [
    "compara_cv_modelos (X_treino, y_f_treino, modelos_cla, Stratified = True)"
   ]
  },
  {
   "cell_type": "markdown",
   "metadata": {},
   "source": [
    "Score dos melhores modelos nos dados de teste"
   ]
  },
  {
   "cell_type": "code",
   "execution_count": 178,
   "metadata": {
    "scrolled": true
   },
   "outputs": [
    {
     "name": "stdout",
     "output_type": "stream",
     "text": [
      "LDA: 0.662103\n",
      "XGB: 0.734878\n"
     ]
    }
   ],
   "source": [
    "# func call\n",
    "eval_model_c(X_treino, X_teste, y_f_treino, y_f_teste, [modelos_cla[1], modelos_cla[5]])"
   ]
  },
  {
   "cell_type": "markdown",
   "metadata": {},
   "source": [
    "# Feature Engineering"
   ]
  },
  {
   "cell_type": "markdown",
   "metadata": {},
   "source": [
    "### Missing Values"
   ]
  },
  {
   "cell_type": "code",
   "execution_count": 62,
   "metadata": {},
   "outputs": [],
   "source": [
    "# colunas com missing values\n",
    "missingValueColumns = acquisition.columns[acquisition.isnull().any()].tolist()\n",
    "acquisition_null = acquisition[missingValueColumns] "
   ]
  },
  {
   "cell_type": "code",
   "execution_count": 64,
   "metadata": {},
   "outputs": [
    {
     "data": {
      "text/plain": [
       "<matplotlib.axes._subplots.AxesSubplot at 0x1c33a22cf98>"
      ]
     },
     "execution_count": 64,
     "metadata": {},
     "output_type": "execute_result"
    },
    {
     "data": {
      "image/png": "[encoded data removed]",
      "text/plain": [
       "<Figure size 1440x576 with 3 Axes>"
      ]
     },
     "metadata": {},
     "output_type": "display_data"
    }
   ],
   "source": [
    "msno.bar(acquisition_null,figsize=(20,8),fontsize=18,labels=True)"
   ]
  },
  {
   "cell_type": "code",
   "execution_count": 67,
   "metadata": {
    "scrolled": true
   },
   "outputs": [
    {
     "data": {
      "text/plain": [
       "<matplotlib.axes._subplots.AxesSubplot at 0x1c331ff3470>"
      ]
     },
     "execution_count": 67,
     "metadata": {},
     "output_type": "execute_result"
    },
    {
     "data": {
      "image/png": "[encoded data removed]",
      "text/plain": [
       "<Figure size 1440x576 with 2 Axes>"
      ]
     },
     "metadata": {},
     "output_type": "display_data"
    }
   ],
   "source": [
    "sorted_data = msno.nullity_sort(acquisition_null, sort='descending') # or sort='ascending'\n",
    "msno.matrix(sorted_data,figsize=(20,8),fontsize=14)"
   ]
  },
  {
   "cell_type": "code",
   "execution_count": null,
   "metadata": {},
   "outputs": [],
   "source": []
  }
 ],
 "metadata": {
  "kernelspec": {
   "display_name": "Python 3",
   "language": "python",
   "name": "python3"
  },
  "language_info": {
   "codemirror_mode": {
    "name": "ipython",
    "version": 3
   },
   "file_extension": ".py",
   "mimetype": "text/x-python",
   "name": "python",
   "nbconvert_exporter": "python",
   "pygments_lexer": "ipython3",
   "version": "3.6.5"
  }
 },
 "nbformat": 4,
 "nbformat_minor": 2
}
